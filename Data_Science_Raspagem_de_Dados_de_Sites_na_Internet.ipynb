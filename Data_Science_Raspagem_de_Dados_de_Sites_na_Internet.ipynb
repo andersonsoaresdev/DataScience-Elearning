{
  "nbformat": 4,
  "nbformat_minor": 0,
  "metadata": {
    "colab": {
      "name": "Data Science - Raspagem de Dados de Sites na Internet.ipynb",
      "provenance": [],
      "authorship_tag": "ABX9TyPejmrTuoEAw9+Uk8Q54r45",
      "include_colab_link": true
    },
    "kernelspec": {
      "name": "python3",
      "display_name": "Python 3"
    }
  },
  "cells": [
    {
      "cell_type": "markdown",
      "metadata": {
        "id": "view-in-github",
        "colab_type": "text"
      },
      "source": [
        "<a href=\"https://colab.research.google.com/github/andersonsoaresdev/DataScience-Elearning/blob/master/Data_Science_Raspagem_de_Dados_de_Sites_na_Internet.ipynb\" target=\"_parent\"><img src=\"https://colab.research.google.com/assets/colab-badge.svg\" alt=\"Open In Colab\"/></a>"
      ]
    },
    {
      "cell_type": "code",
      "metadata": {
        "id": "U85fQ03wkLFs"
      },
      "source": [
        "import re\n",
        "from bs4 import BeautifulSoup\n",
        "from requests import get\n",
        "r = get('https://pizzadedados.com')\n",
        "sopa = BeautifulSoup(r.content.decode('utf-8'), 'html.parser')"
      ],
      "execution_count": 1,
      "outputs": []
    },
    {
      "cell_type": "code",
      "metadata": {
        "id": "q25uPssGkk6F",
        "outputId": "27e1051b-626a-4676-8079-b9ed4fc126b7",
        "colab": {
          "base_uri": "https://localhost:8080/",
          "height": 102
        }
      },
      "source": [
        "print(sopa.prettify()[:100])"
      ],
      "execution_count": 3,
      "outputs": [
        {
          "output_type": "stream",
          "text": [
            "<!DOCTYPE html>\n",
            "<html lang=\"pt-br\">\n",
            " <head>\n",
            "  <meta charset=\"utf-8\"/>\n",
            "  <meta content=\"IE=edge\" http\n"
          ],
          "name": "stdout"
        }
      ]
    },
    {
      "cell_type": "code",
      "metadata": {
        "id": "Q67XJSQMkwS-",
        "outputId": "6101af7e-55f1-4b59-f00d-b0b107cc246c",
        "colab": {
          "base_uri": "https://localhost:8080/",
          "height": 442
        }
      },
      "source": [
        "for link in sopa.find_all('a'):\n",
        "    print(link.get('href'))"
      ],
      "execution_count": 4,
      "outputs": [
        {
          "output_type": "stream",
          "text": [
            "/cdn-cgi/l/email-protection#c3b3aab9b9a2a7a6a7a2a7acb083a4aea2aaafeda0acae\n",
            "https://twitter.com/pizzadedados\n",
            "https://fb.com/pizzadedados\n",
            "https://youtube.com/c/pizzadedados\n",
            "https://www.instagram.com/pizzadedados\n",
            "https://github.com/pizzadedados\n",
            "#about\n",
            "#pizzaiolos\n",
            "https://medium.com/pizzadedados\n",
            "https://podcast.pizzadedados.com/\n",
            "#vemcomagente\n",
            "#vemcomagente\n",
            "/en\n",
            "#about\n",
            "https://guia.datascience.pizza/\n",
            "https://leportella.com\n",
            "https://jtemporal.com\n",
            "https://gusrabbit.com\n",
            "https://itunes.apple.com/us/podcast/pizza-de-dados/id1323137071\n",
            "https://open.spotify.com/show/5k0Ei0MSg5BuiHshr43aSg\n",
            "https://feeds.feedburner.com/PizzaDeDados\n",
            "https://apoia.se/pizzadedados\n",
            "https://databootcamp.com.br\n",
            "https://databootcamp.com.br\n",
            "https://github.com/nrandecker\n"
          ],
          "name": "stdout"
        }
      ]
    }
  ]
}